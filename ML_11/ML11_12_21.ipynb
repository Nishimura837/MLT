{
 "cells": [
  {
   "cell_type": "markdown",
   "metadata": {},
   "source": [
    "### メモ\n",
    "モデル固定、Data Augmentation あり、なしパターンをこのコードに収める"
   ]
  },
  {
   "cell_type": "markdown",
   "metadata": {},
   "source": [
    "### Library"
   ]
  },
  {
   "cell_type": "code",
   "execution_count": null,
   "metadata": {},
   "outputs": [],
   "source": [
    "import pandas as pd\n",
    "import numpy as np\n",
    "import matplotlib.pyplot as plt\n",
    "import keras\n",
    "from keras.datasets import cifar10\n",
    "from keras.models import Model\n",
    "from keras.preprocessing .image import ImageDataGenerator\n",
    "from keras.layers import Input, Dense, Dropout, Flatten, BatchNormalization\n",
    "from keras.layers import Conv2D, MaxPooling2D\n",
    "from keras.utils import to_categorical\n",
    "from keras.callbacks import EarlyStopping\n",
    "import datetime\n",
    "import optuna\n",
    "from sklearn.model_selection import KFold\n",
    "from optuna.samplers import TPESampler, GridSampler\n",
    "from sklearn.manifold import TSNE\n",
    "from keras.callbacks import TensorBoard\n",
    "from tqdm import tqdm"
   ]
  },
  {
   "cell_type": "markdown",
   "metadata": {},
   "source": [
    "### Data"
   ]
  },
  {
   "cell_type": "code",
   "execution_count": null,
   "metadata": {},
   "outputs": [],
   "source": [
    "(X_train, y_train), (X_test, y_test) = cifar10.load_data()\n",
    "#ラベルの設定\n",
    "labels = np.array([\n",
    "    'airplane',  #飛行機\n",
    "    'automobile',#バイク\n",
    "    'bird',      #鳥\n",
    "    'cat',       #猫\n",
    "    'deer',      #鹿\n",
    "    'dog',       #犬\n",
    "    'frog',      #カエル\n",
    "    'horse',     #馬\n",
    "    'ship',      #船\n",
    "    'truck'      #トラック\n",
    "    ])\n",
    "\n",
    "#画像の表示のための関数\n",
    "def image_show(x, y, labels):\n",
    "    for i in range(30):\n",
    "        plt.subplot(5, 6, i+1)\n",
    "        #軸を表示しない\n",
    "        plt.axis(\"off\")\n",
    "        #タイトルをラベルの名前で表示\n",
    "        plt.title(labels[y[i][0]])\n",
    "        #表示\n",
    "        plt.imshow(x[i])\n",
    "    plt.tight_layout()\n",
    "    plt.show()\n",
    "    return    \n",
    "\n",
    "# トレーニングデータの画像とラベルをセットで表示してみる\n",
    "image_show(X_train, y_train, labels)\n",
    "image_show(X_test, y_test, labels)\n",
    "\n",
    "# 正解ラベルの中身の種類 (0~9)をlistに格納\n",
    "class_list = np.unique(y_train).tolist()\n",
    "num_class = len(class_list)\n",
    "print(\"num_class:\", num_class)\n",
    "\n",
    "# データの前処理\n",
    "# ラベルをバイナリクラスにする(yの値を10この数値の配列に変換している)\n",
    "categorical_y_train = to_categorical(y_train, num_class)\n",
    "categorical_y_test = to_categorical(y_test, num_class)"
   ]
  },
  {
   "cell_type": "markdown",
   "metadata": {},
   "source": [
    "### CNN"
   ]
  },
  {
   "cell_type": "code",
   "execution_count": null,
   "metadata": {},
   "outputs": [],
   "source": [
    "inputs = Input(shape=X_train[0].shape)\n",
    "x = Conv2D(64, (3,3), padding = \"same\", activation=\"relu\")(inputs)\n",
    "\n",
    "for i in range(3):\n",
    "    x = Conv2D(64*2**(i-1), (3,3), padding=\"same\", activation=\"relu\")(x)\n",
    "    x = BatchNormalization()(x)\n",
    "    x = MaxPooling2D(pool_size=(2,2), padding=\"same\")(x)\n",
    "    x = Dropout(0.2)(x)\n",
    "\n",
    "intermediate_layer = Conv2D(32, (3,3), padding=\"same\", activation=\"relu\")(x)\n",
    "\n",
    "# 平滑化\n",
    "x = Flatten()(intermediate_layer)\n",
    "\n",
    "# 全統合\n",
    "x = Dense(512, activation=\"relu\")(x)\n",
    "x = Dropout(0.6)(x)\n",
    "predictions = Dense(num_class, activation=\"softmax\")(x)\n",
    "\n",
    "model = Model(inputs=inputs, outputs=predictions)\n",
    "\n",
    "model.compile(loss=\"categorical_crossentropy\",\n",
    "                optimizer=\"adam\",\n",
    "                metrics=[\"accuracy\"]\n",
    ")"
   ]
  },
  {
   "cell_type": "markdown",
   "metadata": {},
   "source": [
    "### Log"
   ]
  },
  {
   "cell_type": "code",
   "execution_count": null,
   "metadata": {},
   "outputs": [],
   "source": [
    "keras.utils.plot_model(model, to_file=\"/home/gakubu/デスクトップ/ML_git/MLT/ML_11/model.png\", \n",
    "                        show_shapes=True, show_layer_activations=\"True\")\n",
    "\n",
    "# tensorboard を使用\n",
    "log_dir = \"logs/fit/\" + datetime.datetime.now().strftime(\"%Y%m%d-%H%M%S\")\n",
    "tensorboard_callback = TensorBoard(log_dir=log_dir, histogram_freq=1)"
   ]
  },
  {
   "cell_type": "markdown",
   "metadata": {},
   "source": [
    "### Data Augmentation"
   ]
  },
  {
   "cell_type": "code",
   "execution_count": null,
   "metadata": {},
   "outputs": [],
   "source": [
    "# ImageDataGeneratorクラスの作成\n",
    "augmentation_train_datagen = ImageDataGenerator(\n",
    "    rotation_range=10,          # 回転\n",
    "    horizontal_flip=True,       # 左右反転\n",
    "    height_shift_range=0.1,     # 上下平行移動\n",
    "    width_shift_range=0.1,      # 左右平行移動\n",
    "    zoom_range=0.1,             # ランダムにズーム\n",
    "    channel_shift_range = 0.2,  # チャンネルシフト\n",
    "    rescale=1./255              # スケーリング\n",
    ")\n",
    "\n",
    "# データ拡張を適用\n",
    "train_generator = augmentation_train_datagen.flow(X_train, categorical_y_train,batch_size=256)\n",
    "\n",
    "X_gen, y_gen = train_generator.next()\n",
    "y_gen = np.argmax(y_gen, axis=1)\n",
    "y_gen_labels = y_gen.reshape(-1, 1)\n",
    "for i in range(30): \n",
    "    plt.subplot(5, 6, i+1)\n",
    "    plt.imshow(X_gen[i])\n",
    "    plt.axis(\"off\")\n",
    "    titles = labels[y_gen_labels[i][0]]\n",
    "    plt.title(titles)\n",
    "plt.tight_layout()\n",
    "plt.show()"
   ]
  },
  {
   "cell_type": "markdown",
   "metadata": {},
   "source": [
    "### Learn with Augmentation"
   ]
  },
  {
   "cell_type": "code",
   "execution_count": null,
   "metadata": {},
   "outputs": [],
   "source": [
    "model.fit(train_generator,\n",
    "        epochs=100,\n",
    "        verbose=1,\n",
    "        validation_data=(X_test, categorical_y_test),\n",
    "        callbacks=[tensorboard_callback, \n",
    "                    EarlyStopping(monitor=\"val_accuracy\", patience=30)]\n",
    ")\n",
    "\n",
    "# テストデータに対する予測\n",
    "y_test_pred = model.predict(X_test)\n",
    "# 予測したものを元のカテゴリクラスに変換する\n",
    "y_test_pred = np.argmax(y_test_pred, axis=1)\n",
    "y_test_pred_labels = y_test_pred.reshape(-1, 1)\n",
    "# データの形を確認\n",
    "print(\"y_test_pred_labels:\", y_test_pred_labels)\n",
    "print(\"y_test:\", y_test)\n",
    "# 予測と正解ラベルが異なる画像のインデックスを取得\n",
    "misclassified_indices = np.where(y_test_pred != np.argmax(categorical_y_test, axis=1))[0]\n",
    "print(\"misclassified_indices:\", misclassified_indices)\n",
    "# 表示する画像の枚数\n",
    "num_images_to_display = min(50, len(misclassified_indices))\n",
    "num_miss_categorized = len(misclassified_indices)\n",
    "print(\"Num miss categorized:\", num_miss_categorized)\n",
    "# グリッドの行数と列数を計算\n",
    "num_rows = int(np.sqrt(num_images_to_display))\n",
    "num_cols = int(np.ceil(num_images_to_display / num_rows))\n",
    "# 誤分類された画像を表示\n",
    "for i in range(num_images_to_display):\n",
    "    index = misclassified_indices[i] \n",
    "\n",
    "    plt.subplot(num_rows, num_cols, i+1)\n",
    "    plt.imshow(X_test[index])\n",
    "    plt.axis(\"off\")\n",
    "    titles = labels[y_test_pred_labels[index][0]]\n",
    "    plt.title(titles)\n",
    "plt.tight_layout()\n",
    "plt.show()\n",
    "\n",
    "# 正解数をカウント\n",
    "num_correct = len(y_test) - num_miss_categorized\n",
    "\n",
    "# valid_index の数\n",
    "num_valid_samples = len(y_test)\n",
    "\n",
    "# 正解率\n",
    "print(\"num_correct:\", num_correct)\n",
    "print(\"num_valid_samples:\", num_valid_samples)\n",
    "accuracy = num_correct / num_valid_samples\n",
    "print(\"accuracy:\", accuracy)"
   ]
  },
  {
   "cell_type": "code",
   "execution_count": null,
   "metadata": {},
   "outputs": [],
   "source": [
    "# 中間層の出力を取得\n",
    "intermediate_layer_model = Model(inputs=inputs, outputs=intermediate_layer)\n",
    "intermediate_output = intermediate_layer_model.predict(X_train)"
   ]
  },
  {
   "cell_type": "markdown",
   "metadata": {},
   "source": [
    "### TSNE"
   ]
  },
  {
   "cell_type": "code",
   "execution_count": null,
   "metadata": {},
   "outputs": [],
   "source": [
    "print(intermediate_output.shape)\n",
    "print(intermediate_output.shape[0])\n",
    "data_for_embedding = intermediate_output.reshape(intermediate_output.shape[0], -1)\n",
    "print(data_for_embedding.shape)\n",
    "# t-SNEによる次元削減\n",
    "tsne = TSNE(n_components=2, random_state=42)\n",
    "tsne_result = tsne.fit_transform(data_for_embedding)\n",
    "print(tsne_result.shape)"
   ]
  },
  {
   "cell_type": "code",
   "execution_count": null,
   "metadata": {},
   "outputs": [],
   "source": [
    "# プロット\n",
    "scatter = plt.scatter(tsne_result[:, 0], tsne_result[:, 1], c=y_train.flatten(), cmap=\"tab10\", s=0.7)\n",
    "plt.legend(*scatter.legend_elements())\n",
    "plt.title('t-SNE Visualization of Convolutional Features')\n",
    "plt.show()"
   ]
  },
  {
   "cell_type": "markdown",
   "metadata": {},
   "source": [
    "### UMAP"
   ]
  },
  {
   "cell_type": "code",
   "execution_count": null,
   "metadata": {},
   "outputs": [],
   "source": [
    "import umap\n",
    "\n",
    "umap = umap.UMAP(random_state=42)\n",
    "umap_result = umap.fit_transform(data_for_embedding)\n",
    "print(umap_result.shape)"
   ]
  },
  {
   "cell_type": "code",
   "execution_count": null,
   "metadata": {},
   "outputs": [],
   "source": [
    "# プロット\n",
    "u_scatter = plt.scatter(umap_result[:, 0], umap_result[:, 1], c=y_train.flatten(), cmap=\"tab10\", s=0.7)\n",
    "plt.legend(*u_scatter.legend_elements())\n",
    "plt.title('UMAP Visualization of Convolutional Features')\n",
    "plt.show()"
   ]
  },
  {
   "cell_type": "markdown",
   "metadata": {},
   "source": [
    "### Learn without Augmentation"
   ]
  },
  {
   "cell_type": "code",
   "execution_count": null,
   "metadata": {},
   "outputs": [],
   "source": [
    "normal_model = Model(inputs=inputs, outputs=predictions)\n",
    "normal_model.compile(loss=\"categorical_crossentropy\",\n",
    "                optimizer=\"adam\",\n",
    "                metrics=[\"accuracy\"]\n",
    ")\n",
    "normal_model.fit(X_train, categorical_y_train,\n",
    "        epochs=100,\n",
    "        verbose=1,\n",
    "        validation_data=(X_test, categorical_y_test),\n",
    "        callbacks=[tensorboard_callback, \n",
    "                    EarlyStopping(patience=10)]\n",
    ")\n",
    "\n",
    "# テストデータに対する予測\n",
    "y_test_pred_n = normal_model.predict(X_test)\n",
    "# 予測したものを元のカテゴリクラスに変換する\n",
    "y_test_pred_n = np.argmax(y_test_pred_n, axis=1)\n",
    "y_test_pred_labels_n = y_test_pred_n.reshape(-1, 1)\n",
    "# データの形を確認\n",
    "print(\"y_test_pred_labels:\", y_test_pred_labels_n)\n",
    "print(\"y_test:\", y_test)\n",
    "# 予測と正解ラベルが異なる画像のインデックスを取得\n",
    "misclassified_indices_n = np.where(y_test_pred_n != np.argmax(categorical_y_test, axis=1))[0]\n",
    "print(\"misclassified_indices:\", misclassified_indices_n)\n",
    "# 表示する画像の枚数\n",
    "num_images_to_display_n = min(50, len(misclassified_indices_n))\n",
    "num_miss_categorized_n = len(misclassified_indices_n)\n",
    "print(\"Num miss categorized:\", num_miss_categorized_n)\n",
    "# グリッドの行数と列数を計算\n",
    "num_rows_n = int(np.sqrt(num_images_to_display_n))\n",
    "num_cols_n = int(np.ceil(num_images_to_display_n / num_rows_n))\n",
    "# 誤分類された画像を表示\n",
    "for i in range(num_images_to_display_n):\n",
    "    index = misclassified_indices_n[i] \n",
    "\n",
    "    plt.subplot(num_rows_n, num_cols_n, i+1)\n",
    "    plt.imshow(X_test[index])\n",
    "    plt.axis(\"off\")\n",
    "    titles = labels[y_test_pred_labels_n[index][0]]\n",
    "    plt.title(titles)\n",
    "plt.tight_layout()\n",
    "plt.show()\n",
    "\n",
    "# 正解数をカウント\n",
    "num_correct_n = len(y_test) - num_miss_categorized_n\n",
    "\n",
    "# valid_index の数\n",
    "num_valid_samples_n = len(y_test)\n",
    "\n",
    "# 正解率\n",
    "print(\"num_correct:\", num_correct_n)\n",
    "print(\"num_valid_samples:\", num_valid_samples_n)\n",
    "accuracy_n = num_correct_n / num_valid_samples_n\n",
    "print(\"accuracy:\", accuracy_n)"
   ]
  },
  {
   "cell_type": "code",
   "execution_count": null,
   "metadata": {},
   "outputs": [],
   "source": [
    "# 中間層の出力を取得\n",
    "normal_intermediate_layer_model = Model(inputs=inputs, outputs=intermediate_layer)\n",
    "intermediate_output_n = normal_intermediate_layer_model.predict(X_train)"
   ]
  },
  {
   "cell_type": "markdown",
   "metadata": {},
   "source": [
    "### TSNE"
   ]
  },
  {
   "cell_type": "code",
   "execution_count": null,
   "metadata": {},
   "outputs": [],
   "source": [
    "data_for_embedding_n = intermediate_output_n.reshape(intermediate_output_n.shape[0], -1)\n",
    "# t-SNEによる次元削減\n",
    "tsne_result_n = tsne.fit_transform(data_for_embedding_n)\n",
    "# プロット\n",
    "scatter_n = plt.scatter(tsne_result_n[:, 0], tsne_result_n[:, 1], c=y_train.flatten(), cmap=\"tab10\", s=0.7)\n",
    "plt.legend(*scatter_n.legend_elements())\n",
    "plt.title('t-SNE Visualization of Convolutional Features')\n",
    "plt.show()"
   ]
  },
  {
   "cell_type": "markdown",
   "metadata": {},
   "source": [
    "### UMAP"
   ]
  },
  {
   "cell_type": "code",
   "execution_count": null,
   "metadata": {},
   "outputs": [],
   "source": [
    "umap_result_n = umap.fit_transform(data_for_embedding_n)\n",
    "# プロット\n",
    "u_scatter_n = plt.scatter(umap_result_n[:, 0], umap_result_n[:, 1], c=y_train.flatten(), cmap=\"tab10\", s=0.7)\n",
    "plt.legend(*u_scatter_n.legend_elements())\n",
    "plt.title('UMAP Visualization of Convolutional Features')\n",
    "plt.show()"
   ]
  }
 ],
 "metadata": {
  "kernelspec": {
   "display_name": "Python 3",
   "language": "python",
   "name": "python3"
  },
  "language_info": {
   "codemirror_mode": {
    "name": "ipython",
    "version": 3
   },
   "file_extension": ".py",
   "mimetype": "text/x-python",
   "name": "python",
   "nbconvert_exporter": "python",
   "pygments_lexer": "ipython3",
   "version": "3.11.4"
  }
 },
 "nbformat": 4,
 "nbformat_minor": 2
}
